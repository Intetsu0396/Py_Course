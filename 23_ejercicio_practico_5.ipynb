{
  "nbformat": 4,
  "nbformat_minor": 0,
  "metadata": {
    "colab": {
      "provenance": [],
      "authorship_tag": "ABX9TyOofgnrXP3xQjblcvGkBvYN",
      "include_colab_link": true
    },
    "kernelspec": {
      "name": "python3",
      "display_name": "Python 3"
    },
    "language_info": {
      "name": "python"
    }
  },
  "cells": [
    {
      "cell_type": "markdown",
      "metadata": {
        "id": "view-in-github",
        "colab_type": "text"
      },
      "source": [
        "<a href=\"https://colab.research.google.com/github/Intetsu0396/Py_Course/blob/main/23_ejercicio_practico_5.ipynb\" target=\"_parent\"><img src=\"https://colab.research.google.com/assets/colab-badge.svg\" alt=\"Open In Colab\"/></a>"
      ]
    },
    {
      "cell_type": "code",
      "execution_count": 2,
      "metadata": {
        "colab": {
          "base_uri": "https://localhost:8080/"
        },
        "id": "cJ-oiG80Ejs7",
        "outputId": "345f8b9e-aa0c-4cf6-c7eb-5cbf1a5528c1"
      },
      "outputs": [
        {
          "output_type": "stream",
          "name": "stdout",
          "text": [
            "0 1 1 2 3 5 8 13 21 34 55 89 144 233 377 610 987 1597 "
          ]
        }
      ],
      "source": [
        "x=0\n",
        "x1=1\n",
        "while x<1597:\n",
        "  print(x,x1, end=\" \")\n",
        "\n",
        "  x+=x1\n",
        "  x1+=x\n",
        "\n",
        "\n",
        "\n",
        "\n"
      ]
    }
  ]
}