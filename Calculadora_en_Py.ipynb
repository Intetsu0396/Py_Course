{
  "nbformat": 4,
  "nbformat_minor": 0,
  "metadata": {
    "colab": {
      "provenance": [],
      "authorship_tag": "ABX9TyMb2wep18pdzgGoDVxj1iO+",
      "include_colab_link": true
    },
    "kernelspec": {
      "name": "python3",
      "display_name": "Python 3"
    },
    "language_info": {
      "name": "python"
    }
  },
  "cells": [
    {
      "cell_type": "markdown",
      "metadata": {
        "id": "view-in-github",
        "colab_type": "text"
      },
      "source": [
        "<a href=\"https://colab.research.google.com/github/Intetsu0396/Py_Course/blob/main/Calculadora_en_Py.ipynb\" target=\"_parent\"><img src=\"https://colab.research.google.com/assets/colab-badge.svg\" alt=\"Open In Colab\"/></a>"
      ]
    },
    {
      "cell_type": "code",
      "execution_count": null,
      "metadata": {
        "colab": {
          "base_uri": "https://localhost:8080/"
        },
        "id": "liyepeETx0SF",
        "outputId": "8e5e60eb-0042-421c-9dc1-00cd280d96cd"
      },
      "outputs": [
        {
          "output_type": "stream",
          "name": "stdout",
          "text": [
            "******************\n",
            "*Menu de opciones*\n",
            "******************\n",
            "\n",
            "1. Suma\n",
            "2. Resta\n",
            "3. Multiplicacion\n",
            "4. Division\n",
            "5. Division entera\n",
            "6. Exponente\n",
            "7. Modulo o resto\n",
            "\n",
            "Introduce la opcion deseada: 7\n",
            "Elegiste modulo\n",
            "\n",
            "introducir el primer numero 9\n",
            "introducir el segundo numero 41\n",
            "\n",
            "El resultado del resto de la divison es  9\n"
          ]
        }
      ],
      "source": [
        "print(\"******************\")\n",
        "print(\"*Menu de opciones*\")\n",
        "print(\"******************\\n\")\n",
        "\n",
        "print(\"1. Suma\\n2. Resta\\n3. Multiplicacion\\n4. Division\\n5. Division entera\\n6. Exponente\\n7. Modulo o resto\\n\")\n",
        "MO = float(input(\"Introduce la opcion deseada: \"))\n",
        "\n",
        "if MO == 1:\n",
        "\n",
        "  print(\"Elegiste suma\")\n",
        "  Nm=float(input(\"introducir el primer numero \"))\n",
        "  Nm+=float(input(\"introducir el segundo numero \"))\n",
        "\n",
        "  print(\"\\nEl resultado de la suma es\", Nm)\n",
        "\n",
        "elif MO == 2:\n",
        "  print(\"Elegiste resta\\n\")\n",
        "  Nm=float(input(\"introducir el primer numero \"))\n",
        "  Nm-=float(input(\"introducir el segundo numero \"))\n",
        "\n",
        "  print(\"\\nEl resultado de la resta es\", Nm)\n",
        "\n",
        "\n",
        "elif MO == 3:\n",
        "\n",
        "  print(\"Elegiste multiplicacion\\n\")\n",
        "  Nm=float(input(\"introducir el primer numero \"))\n",
        "  Nm*=float(input(\"introducir el segundo numero \"))\n",
        "\n",
        "  print(\"\\nEl resultado de la multiplicacion es\", Nm)\n",
        "\n",
        "elif MO == 4:\n",
        "\n",
        "  print(\"Elegiste division\\n\")\n",
        "  Nm=float(input(\"introducir el primer numero \"))\n",
        "  Nm/=float(input(\"introducir el segundo numero \"))\n",
        "\n",
        "  print(\"\\nEl resultado de la division es\", Nm)\n",
        "\n",
        "elif MO == 5:\n",
        "\n",
        "  print(\"Elegiste division entera\\n\")\n",
        "  Nm=float(input(\"introducir el primer numero \"))\n",
        "  Nm//=float(input(\"introducir el segundo numero \"))\n",
        "\n",
        "  print(\"\\nEl resultado de la division entera es\", Nm)\n",
        "\n",
        "elif MO == 6:\n",
        "\n",
        "  print(\"Elegiste exponente\\n\")\n",
        "  Nm=float(input(\"introducir el primer numero \"))\n",
        "  Nm**=float(input(\"introducir el segundo numero \"))\n",
        "\n",
        "  print(\"\\nEl resultado de la potenciacion es\", Nm)\n",
        "\n",
        "elif MO == 7:\n",
        "\n",
        "  print(\"Elegiste modulo\\n\")\n",
        "  Nm=float(input(\"introducir el primer numero \"))\n",
        "  Nm%=float(input(\"introducir el segundo numero \"))\n",
        "\n",
        "  print(\"\\nEl resultado del resto de la divison es \", Nm)\n"
      ]
    },
    {
      "cell_type": "code",
      "source": [],
      "metadata": {
        "id": "w2doYhgKAqwl"
      },
      "execution_count": null,
      "outputs": []
    }
  ]
}