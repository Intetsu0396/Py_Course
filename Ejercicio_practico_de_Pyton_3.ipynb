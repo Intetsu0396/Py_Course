{
  "nbformat": 4,
  "nbformat_minor": 0,
  "metadata": {
    "colab": {
      "provenance": [],
      "authorship_tag": "ABX9TyOqvGcmRpqF6QYYA5Aac4Cl",
      "include_colab_link": true
    },
    "kernelspec": {
      "name": "python3",
      "display_name": "Python 3"
    },
    "language_info": {
      "name": "python"
    }
  },
  "cells": [
    {
      "cell_type": "markdown",
      "metadata": {
        "id": "view-in-github",
        "colab_type": "text"
      },
      "source": [
        "<a href=\"https://colab.research.google.com/github/Intetsu0396/Py_Course/blob/main/Ejercicio_practico_de_Pyton_3.ipynb\" target=\"_parent\"><img src=\"https://colab.research.google.com/assets/colab-badge.svg\" alt=\"Open In Colab\"/></a>"
      ]
    },
    {
      "cell_type": "code",
      "execution_count": null,
      "metadata": {
        "id": "jKKEb8V3fYhY"
      },
      "outputs": [],
      "source": [
        "print(\"**************************************************************************************\")\n",
        "print(\"*Este es un programa para determinar cual de tres numero solicitados es el mas grande*\")\n",
        "print(\"**************************************************************************************\\n\")\n",
        "\n",
        "Nm_1 = float(input(\"Introduce el primer numero \"))\n",
        "Nm_2 = float(input(\"Introduce el segundo numero \"))\n",
        "Nm_3 = float(input(\"Introduce el tercer numero \"))\n",
        "print(\" \")\n",
        "\n",
        "if Nm_1 > Nm_2 and Nm_1 > Nm_3:\n",
        "  print(\"El numero \" , Nm_1 , \" es el numero mas grande de los tres \")\n",
        "\n",
        "elif Nm_2 > Nm_1 and Nm_2 > Nm_3:\n",
        "  print(\"El numero \" , Nm_2 , \" es el numero mas grande de los tres \")\n",
        "\n",
        "elif Nm_3 > Nm_1 and Nm_3 > Nm_2:\n",
        "  print(\"El numero \" , Nm_3 , \" es el numero mas grande de los tres \")\n",
        "\n",
        "else:\n",
        "  print(\"Los numeros reportados no son comparables\")\n",
        "\n",
        "print(\"Fin del programa.\")"
      ]
    }
  ]
}